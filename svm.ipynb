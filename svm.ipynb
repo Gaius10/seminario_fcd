{
 "cells": [
  {
   "cell_type": "code",
   "execution_count": 19,
   "metadata": {},
   "outputs": [],
   "source": [
    "import numpy as np\n",
    "import pandas as pd\n",
    "import matplotlib.pyplot as plt\n",
    "\n",
    "from sklearn.preprocessing import StandardScaler\n",
    "from sklearn.pipeline import Pipeline\n",
    "from sklearn.svm import SVC, LinearSVC\n",
    "from sklearn.model_selection import cross_val_score\n",
    "from sklearn.metrics import accuracy_score, confusion_matrix, classification_report"
   ]
  },
  {
   "cell_type": "code",
   "execution_count": null,
   "metadata": {},
   "outputs": [],
   "source": [
    "df = pd.read_csv('./dataset.csv')\n",
    "df['Drained_after_socializing'] = pd.Series(map(lambda x: x == 'Yes', df['Drained_after_socializing']))\n",
    "df['Stage_fear'] = pd.Series(map(lambda x: x == 'Yes', df['Stage_fear']))\n",
    "df['Personality'] = pd.Series(map(lambda x: x == 'Extrovert', df['Personality']))\n",
    "df"
   ]
  },
  {
   "cell_type": "code",
   "execution_count": null,
   "metadata": {},
   "outputs": [],
   "source": [
    "X = df.drop('Personality', axis=1)\n",
    "y = df['Personality']\n",
    "\n",
    "classifier1 = SVC(C=2, kernel='linear')\n",
    "classifier2 = SVC(C=2, kernel='poly')\n",
    "classifier3 = SVC(C=2, kernel='rbf')\n",
    "classifier4 = SVC(C=2, kernel='sigmoid')\n",
    "# classifier5 = SVC(C=2, kernel='precomputed')\n",
    "\n",
    "scores1 = cross_val_score(classifier1, X, y, cv=5)\n",
    "scores2 = cross_val_score(classifier2, X, y, cv=5)\n",
    "scores3 = cross_val_score(classifier3, X, y, cv=5)\n",
    "scores4 = cross_val_score(classifier4, X, y, cv=5)\n",
    "# scores5 = cross_val_score(classifier5, X, y, cv=5)\n",
    "\n",
    "print(f\"Classifer 1 - linear: {np.average(scores1)}\")\n",
    "print(f\"Classifer 2 - poly: {np.average(scores2)}\")\n",
    "print(f\"Classifer 3 - rbf: {np.average(scores3)}\")\n",
    "print(f\"Classifer 4 - sigmoid: {np.average(scores4)}\")\n",
    "# print(f\"Classifer 5 - precomputed: {np.average(scores5)}\")"
   ]
  },
  {
   "cell_type": "code",
   "execution_count": 34,
   "metadata": {},
   "outputs": [],
   "source": [
    "def avaliate(kernel: str, start=0.1, end=5):\n",
    "    plot_x = []\n",
    "    plot_y = []\n",
    "    for i in np.linspace(start, end, 100):\n",
    "        classifier = SVC(C=i, kernel=kernel)\n",
    "\n",
    "        scores = cross_val_score(classifier, X, y, cv=5)\n",
    "        score = np.average(scores)\n",
    "\n",
    "        plot_x.append(i)\n",
    "        plot_y.append(score)\n",
    "\n",
    "    return plot_x, plot_y\n"
   ]
  },
  {
   "cell_type": "code",
   "execution_count": null,
   "metadata": {},
   "outputs": [],
   "source": [
    "linear_x, linear_y = avaliate('linear')\n",
    "poly_x, poly_y = avaliate('poly')\n",
    "rbf_x, rbf_y = avaliate('rbf')\n",
    "sigmoid_x, sigmoid_y = avaliate('sigmoid')"
   ]
  },
  {
   "cell_type": "code",
   "execution_count": null,
   "metadata": {},
   "outputs": [],
   "source": [
    "fig, (ax1, ax2, ax3, ax4) = plt.subplots(1, 4, figsize=(30, 10))\n",
    "ax1.set_title('linear')\n",
    "ax2.set_title('poly')\n",
    "ax3.set_title('rbf')\n",
    "ax4.set_title('sigmoid')\n",
    "\n",
    "ax1.set_xlabel('C')\n",
    "ax2.set_xlabel('C')\n",
    "ax3.set_xlabel('C')\n",
    "ax4.set_xlabel('C')\n",
    "\n",
    "ax1.set_ylabel('Score')\n",
    "ax2.set_ylabel('Score')\n",
    "ax3.set_ylabel('Score')\n",
    "ax4.set_ylabel('Score')\n",
    "\n",
    "ax1.plot(linear_x, linear_y)\n",
    "ax2.plot(poly_x, poly_y)\n",
    "ax3.plot(rbf_x, rbf_y)\n",
    "ax4.plot(sigmoid_x, sigmoid_y)\n",
    "\n",
    "## Aqui, os graficos mostraram que o kernel \"poly\" desempenha melhor\n",
    "## e seu desempenho parece ser crescente perto do C == 5, então\n",
    "## será estudado individualmente abaixo"
   ]
  },
  {
   "cell_type": "code",
   "execution_count": null,
   "metadata": {},
   "outputs": [],
   "source": [
    "poly_x, poly_y = avaliate('linear', start=4, end=8)\n",
    "\n",
    "fig, ax = plt.subplots(1, 1, figsize=(30, 10))\n",
    "ax.set_title('SVM com kernel do tipo linear')\n",
    "ax.set_xlabel('C')\n",
    "ax.set_ylabel('Score')\n",
    "ax.plot(poly_x, poly_y)"
   ]
  }
 ],
 "metadata": {
  "kernelspec": {
   "display_name": "Python 3",
   "language": "python",
   "name": "python3"
  },
  "language_info": {
   "codemirror_mode": {
    "name": "ipython",
    "version": 3
   },
   "file_extension": ".py",
   "mimetype": "text/x-python",
   "name": "python",
   "nbconvert_exporter": "python",
   "pygments_lexer": "ipython3",
   "version": "3.10.12"
  }
 },
 "nbformat": 4,
 "nbformat_minor": 2
}
