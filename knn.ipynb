{
 "cells": [
  {
   "cell_type": "code",
   "execution_count": 1,
   "metadata": {},
   "outputs": [],
   "source": [
    "import numpy as np\n",
    "import pandas as pd\n",
    "import matplotlib.pyplot as plt\n",
    "\n",
    "from sklearn.preprocessing import StandardScaler\n",
    "from sklearn.pipeline import Pipeline\n",
    "from sklearn.neighbors import KNeighborsClassifier\n",
    "from sklearn.model_selection import cross_val_score\n",
    "from sklearn.metrics import accuracy_score, confusion_matrix, classification_report"
   ]
  },
  {
   "cell_type": "code",
   "execution_count": null,
   "metadata": {},
   "outputs": [],
   "source": [
    "df = pd.read_csv('./dataset.csv')\n",
    "df['Drained_after_socializing'] = pd.Series(map(lambda x: x == 'Yes', df['Drained_after_socializing']))\n",
    "df['Stage_fear'] = pd.Series(map(lambda x: x == 'Yes', df['Stage_fear']))\n",
    "df['Personality'] = pd.Series(map(lambda x: x == 'Extrovert', df['Personality']))\n",
    "df"
   ]
  },
  {
   "cell_type": "code",
   "execution_count": null,
   "metadata": {},
   "outputs": [],
   "source": [
    "X = df.drop('Personality', axis=1)\n",
    "y = df['Personality']\n",
    "\n",
    "plot_x = []\n",
    "plot_y = []\n",
    "\n",
    "for i in range(1, 50):\n",
    "    classifier = Pipeline(steps=[\n",
    "        ('scaler', StandardScaler()),\n",
    "        ('knn', KNeighborsClassifier(n_neighbors=i))\n",
    "    ])\n",
    "    scores = cross_val_score(classifier, X, y, cv=5)\n",
    "\n",
    "    plot_x.append(i)\n",
    "    plot_y.append(np.average(scores))\n",
    "\n",
    "fig, ax = plt.subplots(1, 1)\n",
    "ax.set_xlabel('K')\n",
    "ax.set_ylabel('avg score')\n",
    "ax.set_title('Desempenho por valor de K')\n",
    "ax.plot(plot_x, plot_y)\n"
   ]
  },
  {
   "cell_type": "code",
   "execution_count": null,
   "metadata": {},
   "outputs": [],
   "source": [
    "scores_df = pd.DataFrame({\n",
    "    'k': pd.Series(plot_x),\n",
    "    'score': pd.Series(plot_y),\n",
    "})\n",
    "\n",
    "scores_df.sort_values(by=['score'], ascending=False)"
   ]
  }
 ],
 "metadata": {
  "kernelspec": {
   "display_name": "Python 3",
   "language": "python",
   "name": "python3"
  },
  "language_info": {
   "codemirror_mode": {
    "name": "ipython",
    "version": 3
   },
   "file_extension": ".py",
   "mimetype": "text/x-python",
   "name": "python",
   "nbconvert_exporter": "python",
   "pygments_lexer": "ipython3",
   "version": "3.10.12"
  }
 },
 "nbformat": 4,
 "nbformat_minor": 2
}
