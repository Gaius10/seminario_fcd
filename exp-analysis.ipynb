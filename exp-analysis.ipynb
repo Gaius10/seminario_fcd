{
 "cells": [
  {
   "cell_type": "markdown",
   "metadata": {},
   "source": [
    "# Preparo geral"
   ]
  },
  {
   "cell_type": "code",
   "execution_count": 1,
   "metadata": {},
   "outputs": [],
   "source": [
    "import pandas as pd\n",
    "import matplotlib.pyplot as plt\n",
    "import numpy as np"
   ]
  },
  {
   "cell_type": "code",
   "execution_count": 2,
   "metadata": {},
   "outputs": [],
   "source": [
    "# @title Descrição geral dos dados\n",
    "df = pd.read_csv('dataset.csv')"
   ]
  },
  {
   "cell_type": "code",
   "execution_count": null,
   "metadata": {},
   "outputs": [],
   "source": [
    "# df.head()\n",
    "# df.describe()\n",
    "# df.info()"
   ]
  },
  {
   "cell_type": "markdown",
   "metadata": {},
   "source": [
    "# Análise univariada"
   ]
  },
  {
   "cell_type": "markdown",
   "metadata": {},
   "source": [
    "### Categóricas"
   ]
  },
  {
   "cell_type": "code",
   "execution_count": null,
   "metadata": {},
   "outputs": [],
   "source": [
    "plt.subplots_adjust(wspace=1, hspace=0.2)\n",
    "fig, (ax1, ax2, ax3) = plt.subplots(1, 3, figsize=(15, 3))\n",
    "\n",
    "ax1.set_title(\"Personalidade (variável alvo)\")\n",
    "ax1.bar(\n",
    "    df['Personality'].unique(),\n",
    "    df.groupby('Personality')['Personality'].count()\n",
    ")\n",
    "\n",
    "ax2.set_title(\"Exaustão após eventos sociais\")\n",
    "ax2.bar(\n",
    "    df['Drained_after_socializing'].unique(),\n",
    "    df.groupby('Drained_after_socializing')['Drained_after_socializing'].count()\n",
    ")\n",
    "\n",
    "ax3.set_title(\"Medo de falar em público\")\n",
    "ax3.bar(\n",
    "    df['Stage_fear'].unique(),\n",
    "    df.groupby('Stage_fear')['Stage_fear'].count()\n",
    ")"
   ]
  },
  {
   "cell_type": "markdown",
   "metadata": {},
   "source": [
    "### Quantitativas"
   ]
  },
  {
   "cell_type": "code",
   "execution_count": null,
   "metadata": {},
   "outputs": [],
   "source": [
    "plt.subplots_adjust(wspace=2, hspace=0.4)\n",
    "fig, (ax1, ax2, ax3, ax4, ax5) = plt.subplots(1, 5, figsize=(20, 3))\n",
    "\n",
    "ax1.set_title(\"Amigos próximos\")\n",
    "ax1.hist(df['Friends_circle_size'])\n",
    "\n",
    "ax2.set_title(\"Frequencia de saídas de casa\")\n",
    "ax2.hist(df['Going_outside'])\n",
    "\n",
    "ax3.set_title(\"Postagem em redes sociais\")\n",
    "ax3.hist(df['Post_frequency'])\n",
    "\n",
    "ax4.set_title(\"Frequencia de eventos sociais\")\n",
    "ax4.hist(df['Social_event_attendance'])\n",
    "\n",
    "ax5.set_title(\"Tempo gasto sozinho\")\n",
    "ax5.hist(df['Time_spent_Alone'])"
   ]
  },
  {
   "cell_type": "markdown",
   "metadata": {},
   "source": [
    "# Análise bivariada"
   ]
  },
  {
   "cell_type": "code",
   "execution_count": null,
   "metadata": {},
   "outputs": [],
   "source": [
    "fig, (ax1, ax2, ax3, ax4, ax5) = plt.subplots(1, 5, figsize=(20, 5))\n",
    "\n",
    "by_personality = df.groupby('Personality')\n",
    "\n",
    "time_alone = by_personality['Time_spent_Alone'].aggregate(list)\n",
    "social_attendance = by_personality['Social_event_attendance'].aggregate(list)\n",
    "going_outside = by_personality['Going_outside'].aggregate(list)\n",
    "friends = by_personality['Friends_circle_size'].aggregate(list)\n",
    "post_frequency = by_personality['Post_frequency'].aggregate(list)\n",
    "\n",
    "ax1.set_title('Time spent alone')\n",
    "ax2.set_title('Social attendance')\n",
    "ax3.set_title('Going outside')\n",
    "ax4.set_title('Friends circle size')\n",
    "ax5.set_title('Post frequency')\n",
    "\n",
    "ax1.boxplot(time_alone, tick_labels=time_alone.keys())\n",
    "ax2.boxplot(social_attendance, tick_labels=social_attendance.keys())\n",
    "ax3.boxplot(going_outside, tick_labels=going_outside.keys())\n",
    "ax4.boxplot(friends, tick_labels=friends.keys())\n",
    "ax5.boxplot(post_frequency, tick_labels=post_frequency.keys())"
   ]
  }
 ],
 "metadata": {
  "kernelspec": {
   "display_name": "Python 3",
   "language": "python",
   "name": "python3"
  },
  "language_info": {
   "codemirror_mode": {
    "name": "ipython",
    "version": 3
   },
   "file_extension": ".py",
   "mimetype": "text/x-python",
   "name": "python",
   "nbconvert_exporter": "python",
   "pygments_lexer": "ipython3",
   "version": "3.10.12"
  }
 },
 "nbformat": 4,
 "nbformat_minor": 2
}
